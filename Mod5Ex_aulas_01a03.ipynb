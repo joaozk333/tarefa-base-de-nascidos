{
  "cells": [
    {
      "cell_type": "markdown",
      "metadata": {
        "id": "PXcUv5rCldTh"
      },
      "source": [
        "# Módulo 5 Tarefa 1\n",
        "## Base de nascidos vivos do DataSUS\n",
        "O DataSUS disponibiliza diversos arquivos de dados com relação a seus segurados, conforme a [lei da transparência de informações públicas](https://www.sisgov.com/transparencia-acesso-informacao/#:~:text=A%20Lei%20da%20Transpar%C3%AAncia%20(LC,em%20um%20site%20na%20internet.).\n",
        "\n",
        "Essas informações podem ser obtidas pela internet [aqui](http://www2.datasus.gov.br/DATASUS/index.php?area=0901&item=1). Como o processo de obtenção desses arquivos foge um pouco do nosso escopo, deixamos o arquivo SINASC_RO_2019.csv` já como vai ser encontrado no DataSUS. O dicionário de dados está no arquivo `estrutura_sinasc_para_CD.pdf` (o nome do arquivo tal qual no portal do DataSUS).\n",
        "\n",
        "### Nosso objetivo\n",
        "Queremos deixar uma base organizada para podermos estudar a relação entre partos com risco para o bebê e algumas condições como tempo de parto, consultas de pré-natal etc.\n",
        "\n",
        "#### Preparação da base\n",
        "1. Carregue a base 'SINASC_RO_2019.csv'. Conte o número de registros e o número de registros não duplicados da base. Dica: você aprendeu um método que remove duplicados, encadeie este método com um outro método que conta o número de linhas. **Há linhas duplicadas?**  \n",
        "\n",
        "2. Conte o número de valores *missing* por variável.  \n",
        "\n",
        "3. Ok, no item anterior você deve ter achado pouco prático ler a informação de tantas variáveis, muitas delas nem devem ser interesantes. Então crie uma seleção dessa base somente com as colunas que interessam. São elas:\n",
        "`\n",
        "['LOCNASC', 'IDADEMAE', 'ESTCIVMAE', 'ESCMAE', 'QTDFILVIVO',\n",
        "    'GESTACAO', 'GRAVIDEZ', 'CONSULTAS', 'APGAR5']\n",
        "`\n",
        "Refaça a contagem de valores *missings*.  \n",
        "\n",
        "4. Apgar é uma *nota* que o pediatra dá ao bebê quando nasce de acordo com algumas características associadas principalmente à respiração. Apgar 1 e Apgar 5 são as notas 1 e 5 minutos do nascimento. Apgar5 será a nossa variável de interesse principal. Então remova todos os registros com Apgar5 não preenchido. Para esta seleção, conte novamente o número de linhas e o número de *missings*.  \n",
        "\n",
        "5. observe que as variáveis `['ESTCIVMAE', 'CONSULTAS']` possuem o código `9`, que significa *ignorado*. Vamos assumir que o não preenchido é o mesmo que o código `9`.<br>\n",
        "6. Substitua os valores faltantes da quantitativa (`QTDFILVIVO`) por zero.  \n",
        "7. Das restantes, decida que valore te parece mais adequado (um 'não preenchido' ou um valor 'mais provável' como no item anterior) e preencha. Justifique. Lembre-se de que tratamento de dados é trabalho do cientista, e que estamos tomando decisões a todo o momento - não há necessariamente certo e errado aqui.  \n",
        "8. O Apgar possui uma classificação indicando se o bebê passou por asfixia:\n",
        "- Entre 8 e 10 está em uma faixa 'normal'.\n",
        "- Entre 6 e 7, significa que o recém-nascido passou por 'asfixia leve'.\n",
        "- Entre 4 e 5 significa 'asfixia moderada'.\n",
        "- Entre 0 e 3 significa 'asfixia severa'.  \n",
        "\n",
        "Crie uma categorização dessa variável com essa codificação e calcule as frequências dessa categorização.  \n",
        "<br>\n",
        "9. Renomeie as variáveis para que fiquem no *snake case*, ou seja, em letras minúsculas, com um *underscore* entre as palávras. Dica: repare que se você não quiser criar um *dataframe* novo, você vai precisar usar a opção `inplace = True`."
      ]
    },
    {
      "cell_type": "code",
      "source": [
        "from google.colab import files\n",
        "\n",
        "# Fazer upload do arquivo\n",
        "uploaded = files.upload()"
      ],
      "metadata": {
        "colab": {
          "base_uri": "https://localhost:8080/",
          "height": 71
        },
        "id": "viFsJPZrnU03",
        "outputId": "4234e332-d47d-4a3f-8ebf-e741549fca38"
      },
      "execution_count": 7,
      "outputs": [
        {
          "output_type": "display_data",
          "data": {
            "text/plain": [
              "<IPython.core.display.HTML object>"
            ],
            "text/html": [
              "\n",
              "     <input type=\"file\" id=\"files-e39567b5-e450-47c2-9817-ea9de3fad67d\" name=\"files[]\" multiple disabled\n",
              "        style=\"border:none\" />\n",
              "     <output id=\"result-e39567b5-e450-47c2-9817-ea9de3fad67d\">\n",
              "      Upload widget is only available when the cell has been executed in the\n",
              "      current browser session. Please rerun this cell to enable.\n",
              "      </output>\n",
              "      <script>// Copyright 2017 Google LLC\n",
              "//\n",
              "// Licensed under the Apache License, Version 2.0 (the \"License\");\n",
              "// you may not use this file except in compliance with the License.\n",
              "// You may obtain a copy of the License at\n",
              "//\n",
              "//      http://www.apache.org/licenses/LICENSE-2.0\n",
              "//\n",
              "// Unless required by applicable law or agreed to in writing, software\n",
              "// distributed under the License is distributed on an \"AS IS\" BASIS,\n",
              "// WITHOUT WARRANTIES OR CONDITIONS OF ANY KIND, either express or implied.\n",
              "// See the License for the specific language governing permissions and\n",
              "// limitations under the License.\n",
              "\n",
              "/**\n",
              " * @fileoverview Helpers for google.colab Python module.\n",
              " */\n",
              "(function(scope) {\n",
              "function span(text, styleAttributes = {}) {\n",
              "  const element = document.createElement('span');\n",
              "  element.textContent = text;\n",
              "  for (const key of Object.keys(styleAttributes)) {\n",
              "    element.style[key] = styleAttributes[key];\n",
              "  }\n",
              "  return element;\n",
              "}\n",
              "\n",
              "// Max number of bytes which will be uploaded at a time.\n",
              "const MAX_PAYLOAD_SIZE = 100 * 1024;\n",
              "\n",
              "function _uploadFiles(inputId, outputId) {\n",
              "  const steps = uploadFilesStep(inputId, outputId);\n",
              "  const outputElement = document.getElementById(outputId);\n",
              "  // Cache steps on the outputElement to make it available for the next call\n",
              "  // to uploadFilesContinue from Python.\n",
              "  outputElement.steps = steps;\n",
              "\n",
              "  return _uploadFilesContinue(outputId);\n",
              "}\n",
              "\n",
              "// This is roughly an async generator (not supported in the browser yet),\n",
              "// where there are multiple asynchronous steps and the Python side is going\n",
              "// to poll for completion of each step.\n",
              "// This uses a Promise to block the python side on completion of each step,\n",
              "// then passes the result of the previous step as the input to the next step.\n",
              "function _uploadFilesContinue(outputId) {\n",
              "  const outputElement = document.getElementById(outputId);\n",
              "  const steps = outputElement.steps;\n",
              "\n",
              "  const next = steps.next(outputElement.lastPromiseValue);\n",
              "  return Promise.resolve(next.value.promise).then((value) => {\n",
              "    // Cache the last promise value to make it available to the next\n",
              "    // step of the generator.\n",
              "    outputElement.lastPromiseValue = value;\n",
              "    return next.value.response;\n",
              "  });\n",
              "}\n",
              "\n",
              "/**\n",
              " * Generator function which is called between each async step of the upload\n",
              " * process.\n",
              " * @param {string} inputId Element ID of the input file picker element.\n",
              " * @param {string} outputId Element ID of the output display.\n",
              " * @return {!Iterable<!Object>} Iterable of next steps.\n",
              " */\n",
              "function* uploadFilesStep(inputId, outputId) {\n",
              "  const inputElement = document.getElementById(inputId);\n",
              "  inputElement.disabled = false;\n",
              "\n",
              "  const outputElement = document.getElementById(outputId);\n",
              "  outputElement.innerHTML = '';\n",
              "\n",
              "  const pickedPromise = new Promise((resolve) => {\n",
              "    inputElement.addEventListener('change', (e) => {\n",
              "      resolve(e.target.files);\n",
              "    });\n",
              "  });\n",
              "\n",
              "  const cancel = document.createElement('button');\n",
              "  inputElement.parentElement.appendChild(cancel);\n",
              "  cancel.textContent = 'Cancel upload';\n",
              "  const cancelPromise = new Promise((resolve) => {\n",
              "    cancel.onclick = () => {\n",
              "      resolve(null);\n",
              "    };\n",
              "  });\n",
              "\n",
              "  // Wait for the user to pick the files.\n",
              "  const files = yield {\n",
              "    promise: Promise.race([pickedPromise, cancelPromise]),\n",
              "    response: {\n",
              "      action: 'starting',\n",
              "    }\n",
              "  };\n",
              "\n",
              "  cancel.remove();\n",
              "\n",
              "  // Disable the input element since further picks are not allowed.\n",
              "  inputElement.disabled = true;\n",
              "\n",
              "  if (!files) {\n",
              "    return {\n",
              "      response: {\n",
              "        action: 'complete',\n",
              "      }\n",
              "    };\n",
              "  }\n",
              "\n",
              "  for (const file of files) {\n",
              "    const li = document.createElement('li');\n",
              "    li.append(span(file.name, {fontWeight: 'bold'}));\n",
              "    li.append(span(\n",
              "        `(${file.type || 'n/a'}) - ${file.size} bytes, ` +\n",
              "        `last modified: ${\n",
              "            file.lastModifiedDate ? file.lastModifiedDate.toLocaleDateString() :\n",
              "                                    'n/a'} - `));\n",
              "    const percent = span('0% done');\n",
              "    li.appendChild(percent);\n",
              "\n",
              "    outputElement.appendChild(li);\n",
              "\n",
              "    const fileDataPromise = new Promise((resolve) => {\n",
              "      const reader = new FileReader();\n",
              "      reader.onload = (e) => {\n",
              "        resolve(e.target.result);\n",
              "      };\n",
              "      reader.readAsArrayBuffer(file);\n",
              "    });\n",
              "    // Wait for the data to be ready.\n",
              "    let fileData = yield {\n",
              "      promise: fileDataPromise,\n",
              "      response: {\n",
              "        action: 'continue',\n",
              "      }\n",
              "    };\n",
              "\n",
              "    // Use a chunked sending to avoid message size limits. See b/62115660.\n",
              "    let position = 0;\n",
              "    do {\n",
              "      const length = Math.min(fileData.byteLength - position, MAX_PAYLOAD_SIZE);\n",
              "      const chunk = new Uint8Array(fileData, position, length);\n",
              "      position += length;\n",
              "\n",
              "      const base64 = btoa(String.fromCharCode.apply(null, chunk));\n",
              "      yield {\n",
              "        response: {\n",
              "          action: 'append',\n",
              "          file: file.name,\n",
              "          data: base64,\n",
              "        },\n",
              "      };\n",
              "\n",
              "      let percentDone = fileData.byteLength === 0 ?\n",
              "          100 :\n",
              "          Math.round((position / fileData.byteLength) * 100);\n",
              "      percent.textContent = `${percentDone}% done`;\n",
              "\n",
              "    } while (position < fileData.byteLength);\n",
              "  }\n",
              "\n",
              "  // All done.\n",
              "  yield {\n",
              "    response: {\n",
              "      action: 'complete',\n",
              "    }\n",
              "  };\n",
              "}\n",
              "\n",
              "scope.google = scope.google || {};\n",
              "scope.google.colab = scope.google.colab || {};\n",
              "scope.google.colab._files = {\n",
              "  _uploadFiles,\n",
              "  _uploadFilesContinue,\n",
              "};\n",
              "})(self);\n",
              "</script> "
            ]
          },
          "metadata": {}
        },
        {
          "output_type": "stream",
          "name": "stdout",
          "text": [
            "Saving SINASC_RO_2019.csv to SINASC_RO_2019.csv\n"
          ]
        }
      ]
    },
    {
      "cell_type": "code",
      "execution_count": 8,
      "metadata": {
        "colab": {
          "base_uri": "https://localhost:8080/"
        },
        "id": "59LAaMbFldTk",
        "outputId": "2c5634b4-4538-448e-cfe4-86a9cd224c94"
      },
      "outputs": [
        {
          "output_type": "stream",
          "name": "stdout",
          "text": [
            "(27028, 69)\n"
          ]
        },
        {
          "output_type": "execute_result",
          "data": {
            "text/plain": [
              "(27028, 69)"
            ]
          },
          "metadata": {},
          "execution_count": 8
        }
      ],
      "source": [
        "import pandas as pd\n",
        "import requests\n",
        "\n",
        "# 1) seu código aqui\n",
        "sinasc = pd.read_csv('SINASC_RO_2019.csv')\n",
        "print(sinasc.shape)\n",
        "sinasc.drop_duplicates().shape\n",
        "# Não há duplicados"
      ]
    },
    {
      "cell_type": "code",
      "execution_count": null,
      "metadata": {
        "id": "VgIKnZ5IldTl"
      },
      "outputs": [],
      "source": [
        "# 2) seu código aqui\n",
        "missing_values = sinasc.isnull().sum()\n",
        "missing_values"
      ]
    },
    {
      "cell_type": "code",
      "execution_count": 13,
      "metadata": {
        "colab": {
          "base_uri": "https://localhost:8080/",
          "height": 366
        },
        "id": "jaUsjez5ldTl",
        "outputId": "15f6532e-42e6-458a-8f27-9e1503796771"
      },
      "outputs": [
        {
          "output_type": "execute_result",
          "data": {
            "text/plain": [
              "LOCNASC          0\n",
              "IDADEMAE         0\n",
              "ESTCIVMAE      317\n",
              "ESCMAE         312\n",
              "QTDFILVIVO    1573\n",
              "GESTACAO      1232\n",
              "GRAVIDEZ        79\n",
              "CONSULTAS        0\n",
              "APGAR5         103\n",
              "dtype: int64"
            ],
            "text/html": [
              "<table border=\"1\" class=\"dataframe\">\n",
              "  <thead>\n",
              "    <tr style=\"text-align: right;\">\n",
              "      <th></th>\n",
              "      <th>0</th>\n",
              "    </tr>\n",
              "  </thead>\n",
              "  <tbody>\n",
              "    <tr>\n",
              "      <th>LOCNASC</th>\n",
              "      <td>0</td>\n",
              "    </tr>\n",
              "    <tr>\n",
              "      <th>IDADEMAE</th>\n",
              "      <td>0</td>\n",
              "    </tr>\n",
              "    <tr>\n",
              "      <th>ESTCIVMAE</th>\n",
              "      <td>317</td>\n",
              "    </tr>\n",
              "    <tr>\n",
              "      <th>ESCMAE</th>\n",
              "      <td>312</td>\n",
              "    </tr>\n",
              "    <tr>\n",
              "      <th>QTDFILVIVO</th>\n",
              "      <td>1573</td>\n",
              "    </tr>\n",
              "    <tr>\n",
              "      <th>GESTACAO</th>\n",
              "      <td>1232</td>\n",
              "    </tr>\n",
              "    <tr>\n",
              "      <th>GRAVIDEZ</th>\n",
              "      <td>79</td>\n",
              "    </tr>\n",
              "    <tr>\n",
              "      <th>CONSULTAS</th>\n",
              "      <td>0</td>\n",
              "    </tr>\n",
              "    <tr>\n",
              "      <th>APGAR5</th>\n",
              "      <td>103</td>\n",
              "    </tr>\n",
              "  </tbody>\n",
              "</table><br><label><b>dtype:</b> int64</label>"
            ]
          },
          "metadata": {},
          "execution_count": 13
        }
      ],
      "source": [
        "# 3) seu código aqui\n",
        "colunas_interesse = ['LOCNASC', 'IDADEMAE', 'ESTCIVMAE', 'ESCMAE',\n",
        "                     'QTDFILVIVO', 'GESTACAO', 'GRAVIDEZ',\n",
        "                     'CONSULTAS', 'APGAR5']\n",
        "sinasc_selecionado = sinasc[colunas_interesse]\n",
        "missing_values_selecionados = sinasc_selecionado.isnull().sum()\n",
        "missing_values_selecionados"
      ]
    },
    {
      "cell_type": "code",
      "execution_count": 14,
      "metadata": {
        "colab": {
          "base_uri": "https://localhost:8080/"
        },
        "id": "wCxlCocJldTl",
        "outputId": "47cbb240-203b-46cd-f3b6-0d9a2f9f6858"
      },
      "outputs": [
        {
          "output_type": "stream",
          "name": "stdout",
          "text": [
            "Número total de linhas após filtrar Apgar5: 26925\n",
            "Número de valores faltantes por variável:\n",
            "ESTCIVMAE      315\n",
            "ESCMAE         310\n",
            "QTDFILVIVO    1566\n",
            "GESTACAO      1216\n",
            "GRAVIDEZ        76\n",
            "dtype: int64\n"
          ]
        }
      ],
      "source": [
        "# 4) seu código aqui\n",
        "colunas_interesse = ['LOCNASC', 'IDADEMAE', 'ESTCIVMAE', 'ESCMAE',\n",
        "                     'QTDFILVIVO', 'GESTACAO', 'GRAVIDEZ',\n",
        "                     'CONSULTAS', 'APGAR5']\n",
        "\n",
        "sinasc_selecionado = sinasc[colunas_interesse]\n",
        "\n",
        "sinasc_filtrado = sinasc_selecionado.dropna(subset=['APGAR5'])\n",
        "\n",
        "total_linhas_filtradas = len(sinasc_filtrado)\n",
        "missing_values_filtrados = sinasc_filtrado.isnull().sum()\n",
        "\n",
        "print(f\"Número total de linhas após filtrar Apgar5: {total_linhas_filtradas}\")\n",
        "print(\"Número de valores faltantes por variável:\")\n",
        "print(missing_values_filtrados[missing_values_filtrados > 0])"
      ]
    },
    {
      "cell_type": "code",
      "execution_count": 15,
      "metadata": {
        "colab": {
          "base_uri": "https://localhost:8080/"
        },
        "id": "DdrUY9EdldTm",
        "outputId": "379fff62-9d1c-450a-ba49-ca4105146cb8"
      },
      "outputs": [
        {
          "output_type": "stream",
          "name": "stdout",
          "text": [
            "Número total de linhas após filtrar Apgar5: 26925\n",
            "Número de valores faltantes por variável:\n",
            "ESTCIVMAE      459\n",
            "ESCMAE         310\n",
            "QTDFILVIVO    1566\n",
            "GESTACAO      1216\n",
            "GRAVIDEZ        76\n",
            "CONSULTAS       50\n",
            "dtype: int64\n"
          ]
        },
        {
          "output_type": "stream",
          "name": "stderr",
          "text": [
            "<ipython-input-15-48d8b3eecabb>:3: SettingWithCopyWarning: \n",
            "A value is trying to be set on a copy of a slice from a DataFrame.\n",
            "Try using .loc[row_indexer,col_indexer] = value instead\n",
            "\n",
            "See the caveats in the documentation: https://pandas.pydata.org/pandas-docs/stable/user_guide/indexing.html#returning-a-view-versus-a-copy\n",
            "  sinasc_selecionado['ESTCIVMAE'] = sinasc_selecionado['ESTCIVMAE'].replace(9, pd.NA)\n",
            "<ipython-input-15-48d8b3eecabb>:4: SettingWithCopyWarning: \n",
            "A value is trying to be set on a copy of a slice from a DataFrame.\n",
            "Try using .loc[row_indexer,col_indexer] = value instead\n",
            "\n",
            "See the caveats in the documentation: https://pandas.pydata.org/pandas-docs/stable/user_guide/indexing.html#returning-a-view-versus-a-copy\n",
            "  sinasc_selecionado['CONSULTAS'] = sinasc_selecionado['CONSULTAS'].replace(9, pd.NA)\n"
          ]
        }
      ],
      "source": [
        "# 5) seu código aqui\n",
        "\n",
        "sinasc_selecionado['ESTCIVMAE'] = sinasc_selecionado['ESTCIVMAE'].replace(9, pd.NA)\n",
        "sinasc_selecionado['CONSULTAS'] = sinasc_selecionado['CONSULTAS'].replace(9, pd.NA)\n",
        "\n",
        "sinasc_filtrado = sinasc_selecionado.dropna(subset=['APGAR5'])\n",
        "\n",
        "\n",
        "total_linhas_filtradas = len(sinasc_filtrado)\n",
        "\n",
        "missing_values_filtrados = sinasc_filtrado.isnull().sum()\n",
        "\n",
        "print(f\"Número total de linhas após filtrar Apgar5: {total_linhas_filtradas}\")\n",
        "print(\"Número de valores faltantes por variável:\")\n",
        "print(missing_values_filtrados[missing_values_filtrados > 0])"
      ]
    },
    {
      "cell_type": "code",
      "execution_count": 17,
      "metadata": {
        "colab": {
          "base_uri": "https://localhost:8080/"
        },
        "id": "p5lCG4mvldTm",
        "outputId": "04b112bc-f808-43fd-f1bf-df8d6335e9e7"
      },
      "outputs": [
        {
          "output_type": "stream",
          "name": "stdout",
          "text": [
            "Valores missing por variável após substituições:\n",
            "LOCNASC          0\n",
            "IDADEMAE         0\n",
            "ESTCIVMAE      462\n",
            "ESCMAE         312\n",
            "QTDFILVIVO       0\n",
            "GESTACAO      1232\n",
            "GRAVIDEZ        79\n",
            "CONSULTAS       51\n",
            "APGAR5         103\n",
            "dtype: int64\n"
          ]
        },
        {
          "output_type": "stream",
          "name": "stderr",
          "text": [
            "<ipython-input-17-9ceb7e2c226e>:2: SettingWithCopyWarning: \n",
            "A value is trying to be set on a copy of a slice from a DataFrame\n",
            "\n",
            "See the caveats in the documentation: https://pandas.pydata.org/pandas-docs/stable/user_guide/indexing.html#returning-a-view-versus-a-copy\n",
            "  sinasc_selecionado['QTDFILVIVO'].fillna(0, inplace=True)\n"
          ]
        }
      ],
      "source": [
        "# 6) Seu código aqui\n",
        "sinasc_selecionado['QTDFILVIVO'].fillna(0, inplace=True)\n",
        "missing_values_final = sinasc_selecionado.isnull().sum()\n",
        "\n",
        "print(\"Valores missing por variável após substituições:\")\n",
        "print(missing_values_final)"
      ]
    },
    {
      "cell_type": "code",
      "execution_count": 19,
      "metadata": {
        "colab": {
          "base_uri": "https://localhost:8080/"
        },
        "id": "jQ-69yQ1ldTm",
        "outputId": "4518f81b-f967-40b3-ecb9-72eae3670978"
      },
      "outputs": [
        {
          "output_type": "stream",
          "name": "stdout",
          "text": [
            "Valores missing por variável após todas as imputações:\n",
            "LOCNASC         0\n",
            "IDADEMAE        0\n",
            "ESTCIVMAE     462\n",
            "ESCMAE          0\n",
            "QTDFILVIVO      0\n",
            "GESTACAO        0\n",
            "GRAVIDEZ        0\n",
            "CONSULTAS      51\n",
            "APGAR5        103\n",
            "dtype: int64\n"
          ]
        },
        {
          "output_type": "stream",
          "name": "stderr",
          "text": [
            "<ipython-input-19-3c5efbbc426a>:4: SettingWithCopyWarning: \n",
            "A value is trying to be set on a copy of a slice from a DataFrame\n",
            "\n",
            "See the caveats in the documentation: https://pandas.pydata.org/pandas-docs/stable/user_guide/indexing.html#returning-a-view-versus-a-copy\n",
            "  sinasc_selecionado[column].fillna(mode_value, inplace=True)\n",
            "<ipython-input-19-3c5efbbc426a>:10: SettingWithCopyWarning: \n",
            "A value is trying to be set on a copy of a slice from a DataFrame\n",
            "\n",
            "See the caveats in the documentation: https://pandas.pydata.org/pandas-docs/stable/user_guide/indexing.html#returning-a-view-versus-a-copy\n",
            "  sinasc_selecionado[column].fillna(median_value, inplace=True)\n"
          ]
        }
      ],
      "source": [
        "categorical_columns = ['LOCNASC', 'ESCMAE', 'GESTACAO', 'GRAVIDEZ']\n",
        "for column in categorical_columns:\n",
        "    mode_value = sinasc_selecionado[column].mode()[0]\n",
        "    sinasc_selecionado[column].fillna(mode_value, inplace=True)\n",
        "\n",
        "# Substituir valores faltantes na variável numérica pela mediana\n",
        "numerical_columns = ['IDADEMAE']\n",
        "for column in numerical_columns:\n",
        "    median_value = sinasc_selecionado[column].median()\n",
        "    sinasc_selecionado[column].fillna(median_value, inplace=True)\n",
        "\n",
        "# Verificar novamente os valores missing após imputações\n",
        "missing_values_final = sinasc_selecionado.isnull().sum()\n",
        "\n",
        "print(\"Valores missing por variável após todas as imputações:\")\n",
        "print(missing_values_final)\n",
        "\n",
        "\n"
      ]
    },
    {
      "cell_type": "code",
      "execution_count": 21,
      "metadata": {
        "colab": {
          "base_uri": "https://localhost:8080/"
        },
        "id": "LpQbN92rldTm",
        "outputId": "f4fc7e38-01ba-4992-a744-58b498c65bb2"
      },
      "outputs": [
        {
          "output_type": "stream",
          "name": "stdout",
          "text": [
            "   LOCNASC  IDADEMAE ESTCIVMAE           ESCMAE  QTDFILVIVO         GESTACAO  \\\n",
            "0        1        19       5.0      8 a 11 anos         0.0  37 a 41 semanas   \n",
            "1        1        29       2.0      8 a 11 anos         1.0  37 a 41 semanas   \n",
            "2        1        37      <NA>      8 a 11 anos         2.0  37 a 41 semanas   \n",
            "3        1        30       5.0  12 anos ou mais         0.0  37 a 41 semanas   \n",
            "4        1        30       2.0      8 a 11 anos         1.0  37 a 41 semanas   \n",
            "\n",
            "  GRAVIDEZ CONSULTAS  APGAR5 ASFIXIA  \n",
            "0    Única         4    10.0     Não  \n",
            "1    Única         4     9.0     Não  \n",
            "2    Única         4    10.0     Não  \n",
            "3    Única         3    10.0     Não  \n",
            "4    Única         4    10.0     Não  \n"
          ]
        },
        {
          "output_type": "stream",
          "name": "stderr",
          "text": [
            "<ipython-input-21-186132c2f699>:2: SettingWithCopyWarning: \n",
            "A value is trying to be set on a copy of a slice from a DataFrame.\n",
            "Try using .loc[row_indexer,col_indexer] = value instead\n",
            "\n",
            "See the caveats in the documentation: https://pandas.pydata.org/pandas-docs/stable/user_guide/indexing.html#returning-a-view-versus-a-copy\n",
            "  sinasc_selecionado['ASFIXIA'] = sinasc_selecionado['APGAR5'].apply(lambda x: 'Sim' if x < 7 else 'Não')\n"
          ]
        }
      ],
      "source": [
        "# 8) seu código aqui\n",
        "sinasc_selecionado['ASFIXIA'] = sinasc_selecionado['APGAR5'].apply(lambda x: 'Sim' if x < 7 else 'Não')\n",
        "missing_values_final = sinasc_selecionado.isnull().sum()\n",
        "print(sinasc_selecionado.head())"
      ]
    },
    {
      "cell_type": "code",
      "execution_count": 23,
      "metadata": {
        "colab": {
          "base_uri": "https://localhost:8080/"
        },
        "id": "N7Mezw9_ldTn",
        "outputId": "caeca090-c022-40c2-f70d-8c8a525d5ff3"
      },
      "outputs": [
        {
          "output_type": "stream",
          "name": "stdout",
          "text": [
            "   loc_nasc  idade_mae est_civ_mae          esc_mae  qtd_fil_vivo  \\\n",
            "0         1         19         5.0      8 a 11 anos           0.0   \n",
            "1         1         29         2.0      8 a 11 anos           1.0   \n",
            "2         1         37        <NA>      8 a 11 anos           2.0   \n",
            "3         1         30         5.0  12 anos ou mais           0.0   \n",
            "4         1         30         2.0      8 a 11 anos           1.0   \n",
            "\n",
            "          gestacao gravidez consultas  apgar5 ASFIXIA  \n",
            "0  37 a 41 semanas    Única         4    10.0     Não  \n",
            "1  37 a 41 semanas    Única         4     9.0     Não  \n",
            "2  37 a 41 semanas    Única         4    10.0     Não  \n",
            "3  37 a 41 semanas    Única         3    10.0     Não  \n",
            "4  37 a 41 semanas    Única         4    10.0     Não  \n"
          ]
        },
        {
          "output_type": "stream",
          "name": "stderr",
          "text": [
            "<ipython-input-23-7e876b25cfc2>:2: SettingWithCopyWarning: \n",
            "A value is trying to be set on a copy of a slice from a DataFrame\n",
            "\n",
            "See the caveats in the documentation: https://pandas.pydata.org/pandas-docs/stable/user_guide/indexing.html#returning-a-view-versus-a-copy\n",
            "  sinasc_selecionado.rename(columns={\n"
          ]
        }
      ],
      "source": [
        "# 9) seu código aqui\n",
        "sinasc_selecionado.rename(columns={\n",
        "    'LOCNASC': 'loc_nasc',\n",
        "    'IDADEMAE': 'idade_mae',\n",
        "    'ESTCIVMAE': 'est_civ_mae',\n",
        "    'ESCMAE': 'esc_mae',\n",
        "    'QTDFILVIVO': 'qtd_fil_vivo',\n",
        "    'GESTACAO': 'gestacao',\n",
        "    'GRAVIDEZ': 'gravidez',\n",
        "    'CONSULTAS': 'consultas',\n",
        "    'APGAR5': 'apgar5'\n",
        "}, inplace=True)\n",
        "print(sinasc_selecionado.head())"
      ]
    }
  ],
  "metadata": {
    "kernelspec": {
      "display_name": "Python 3",
      "language": "python",
      "name": "python3"
    },
    "language_info": {
      "codemirror_mode": {
        "name": "ipython",
        "version": 3
      },
      "file_extension": ".py",
      "mimetype": "text/x-python",
      "name": "python",
      "nbconvert_exporter": "python",
      "pygments_lexer": "ipython3",
      "version": "3.8.5"
    },
    "colab": {
      "provenance": []
    }
  },
  "nbformat": 4,
  "nbformat_minor": 0
}